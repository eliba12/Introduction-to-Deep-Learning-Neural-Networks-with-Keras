{
  "nbformat": 4,
  "nbformat_minor": 0,
  "metadata": {
    "colab": {
      "provenance": [],
      "authorship_tag": "ABX9TyPnCjhA9nI718SNyL91Rfs5",
      "include_colab_link": true
    },
    "kernelspec": {
      "name": "python3",
      "display_name": "Python 3"
    },
    "language_info": {
      "name": "python"
    }
  },
  "cells": [
    {
      "cell_type": "markdown",
      "metadata": {
        "id": "view-in-github",
        "colab_type": "text"
      },
      "source": [
        "<a href=\"https://colab.research.google.com/github/eliba12/Introduction-to-Deep-Learning-Neural-Networks-with-Keras/blob/main/Classification_Models_with_Keras.ipynb\" target=\"_parent\"><img src=\"https://colab.research.google.com/assets/colab-badge.svg\" alt=\"Open In Colab\"/></a>"
      ]
    },
    {
      "cell_type": "markdown",
      "source": [
        "Classification Models with Keras¶\n",
        "Objective for this Notebook\n",
        "1. Use of MNIST database for training various image processing systems\n",
        "2. Build a Neural Network\n",
        "3. Train and Test the Network.\n",
        "\n",
        "* Import Keras and Packages\n",
        "* Build a Neural Network\n",
        "* Train and Test the Network"
      ],
      "metadata": {
        "id": "HjirkAcV_Uz-"
      }
    },
    {
      "cell_type": "code",
      "source": [
        "# All Libraries required for this lab are listed below. The libraries pre-installed on Skills Network Labs are commented.\n",
        "# If you run this notebook on a different environment, e.g. your desktop, you may need to uncomment and install certain libraries.\n",
        "\n",
        "#!pip install numpy==1.21.4\n",
        "#!pip install pandas==1.3.4\n",
        "#!pip install keras==2.1.6\n",
        "#!pip install matplotlib==3.5.0\n",
        "\n",
        "import keras\n",
        "\n",
        "from keras.models import Sequential\n",
        "from keras.layers import Dense\n",
        "from keras.utils import to_categorical\n",
        "\n",
        "import matplotlib.pyplot as plt"
      ],
      "metadata": {
        "id": "5RYbgPqS_kjO"
      },
      "execution_count": null,
      "outputs": []
    },
    {
      "cell_type": "code",
      "source": [
        "# import the data\n",
        "from keras.datasets import mnist\n",
        "\n",
        "# read the data\n",
        "(X_train, y_train), (X_test, y_test) = mnist.load_data()"
      ],
      "metadata": {
        "colab": {
          "base_uri": "https://localhost:8080/"
        },
        "id": "sSqY8eVG_63Y",
        "outputId": "84c74c43-ea8c-4d29-e6fe-28c696c606e2"
      },
      "execution_count": null,
      "outputs": [
        {
          "output_type": "stream",
          "name": "stdout",
          "text": [
            "Downloading data from https://storage.googleapis.com/tensorflow/tf-keras-datasets/mnist.npz\n",
            "11490434/11490434 [==============================] - 0s 0us/step\n"
          ]
        }
      ]
    },
    {
      "cell_type": "code",
      "source": [
        "X_train.shape"
      ],
      "metadata": {
        "colab": {
          "base_uri": "https://localhost:8080/"
        },
        "id": "XP4xsBfh_9kB",
        "outputId": "7e9ed3c2-564f-45e2-98d3-1f63458d6b49"
      },
      "execution_count": null,
      "outputs": [
        {
          "output_type": "execute_result",
          "data": {
            "text/plain": [
              "(60000, 28, 28)"
            ]
          },
          "metadata": {},
          "execution_count": 3
        }
      ]
    },
    {
      "cell_type": "code",
      "source": [
        "plt.imshow(X_train[0])"
      ],
      "metadata": {
        "colab": {
          "base_uri": "https://localhost:8080/",
          "height": 447
        },
        "id": "18GB17QnAAYi",
        "outputId": "0a7e7a97-6ecf-4ec2-a18e-0a12c876f048"
      },
      "execution_count": null,
      "outputs": [
        {
          "output_type": "execute_result",
          "data": {
            "text/plain": [
              "<matplotlib.image.AxesImage at 0x799753b4b3d0>"
            ]
          },
          "metadata": {},
          "execution_count": 4
        },
        {
          "output_type": "display_data",
          "data": {
            "text/plain": [
              "<Figure size 640x480 with 1 Axes>"
            ],
            "image/png": "[encoded data removed]"
          },
          "metadata": {}
        }
      ]
    },
    {
      "cell_type": "code",
      "source": [
        "# flatten images into one-dimensional vector\n",
        "\n",
        "num_pixels = X_train.shape[1] * X_train.shape[2] # find size of one-dimensional vector\n",
        "\n",
        "X_train = X_train.reshape(X_train.shape[0], num_pixels).astype('float32') # flatten training images\n",
        "X_test = X_test.reshape(X_test.shape[0], num_pixels).astype('float32') # flatten test images"
      ],
      "metadata": {
        "id": "bZ_lw5YYAFU5"
      },
      "execution_count": null,
      "outputs": []
    },
    {
      "cell_type": "code",
      "source": [
        "# normalize inputs from 0-255 to 0-1\n",
        "X_train = X_train / 255\n",
        "X_test = X_test / 255"
      ],
      "metadata": {
        "id": "VTG-2lhyARym"
      },
      "execution_count": null,
      "outputs": []
    },
    {
      "cell_type": "code",
      "source": [
        "# one hot encode outputs\n",
        "y_train = to_categorical(y_train)\n",
        "y_test = to_categorical(y_test)\n",
        "\n",
        "num_classes = y_test.shape[1]\n",
        "print(num_classes)"
      ],
      "metadata": {
        "colab": {
          "base_uri": "https://localhost:8080/"
        },
        "id": "aRi5PC4uAVB3",
        "outputId": "3654d961-a2cf-4d05-ad68-ab689589f8a2"
      },
      "execution_count": null,
      "outputs": [
        {
          "output_type": "stream",
          "name": "stdout",
          "text": [
            "10\n"
          ]
        }
      ]
    },
    {
      "cell_type": "markdown",
      "source": [
        "## Build a Neural Network\n"
      ],
      "metadata": {
        "id": "YOubOaVCAZO6"
      }
    },
    {
      "cell_type": "code",
      "source": [
        "# define classification model\n",
        "def classification_model():\n",
        "    # create model\n",
        "    model = Sequential()\n",
        "    model.add(Dense(num_pixels, activation='relu', input_shape=(num_pixels,)))\n",
        "    model.add(Dense(100, activation='relu'))\n",
        "    model.add(Dense(num_classes, activation='softmax'))\n",
        "\n",
        "\n",
        "    # compile model\n",
        "    model.compile(optimizer='adam', loss='categorical_crossentropy', metrics=['accuracy'])\n",
        "    return model"
      ],
      "metadata": {
        "id": "bmdG3WV4AaNo"
      },
      "execution_count": null,
      "outputs": []
    },
    {
      "cell_type": "markdown",
      "source": [
        "## Train and Test the Network\n"
      ],
      "metadata": {
        "id": "W2Zchdg2AeQx"
      }
    },
    {
      "cell_type": "code",
      "source": [
        "## Train and Test the Network\n",
        "model = classification_model()\n",
        "\n",
        "#fit the model\n",
        "model.fit(X_train, y_train, validation_data=(X_test, y_test), epochs=10, verbose=2 )\n",
        "\n",
        "# evalute the model\n",
        "scores = model.evaluate(X_test, y_test, verbose=0 )"
      ],
      "metadata": {
        "colab": {
          "base_uri": "https://localhost:8080/"
        },
        "id": "7jHNnRuwAhrg",
        "outputId": "5ac3fb39-05e7-42a0-9078-b2ceda35dd48"
      },
      "execution_count": null,
      "outputs": [
        {
          "output_type": "stream",
          "name": "stdout",
          "text": [
            "Epoch 1/10\n",
            "1875/1875 - 31s - loss: 0.1845 - accuracy: 0.9448 - val_loss: 0.0993 - val_accuracy: 0.9698 - 31s/epoch - 16ms/step\n",
            "Epoch 2/10\n",
            "1875/1875 - 19s - loss: 0.0783 - accuracy: 0.9758 - val_loss: 0.0808 - val_accuracy: 0.9753 - 19s/epoch - 10ms/step\n",
            "Epoch 3/10\n",
            "1875/1875 - 18s - loss: 0.0530 - accuracy: 0.9827 - val_loss: 0.0810 - val_accuracy: 0.9754 - 18s/epoch - 10ms/step\n",
            "Epoch 4/10\n",
            "1875/1875 - 26s - loss: 0.0386 - accuracy: 0.9878 - val_loss: 0.0564 - val_accuracy: 0.9829 - 26s/epoch - 14ms/step\n",
            "Epoch 5/10\n",
            "1875/1875 - 25s - loss: 0.0313 - accuracy: 0.9901 - val_loss: 0.0663 - val_accuracy: 0.9821 - 25s/epoch - 13ms/step\n",
            "Epoch 6/10\n",
            "1875/1875 - 21s - loss: 0.0263 - accuracy: 0.9915 - val_loss: 0.0745 - val_accuracy: 0.9809 - 21s/epoch - 11ms/step\n",
            "Epoch 7/10\n",
            "1875/1875 - 22s - loss: 0.0219 - accuracy: 0.9929 - val_loss: 0.0754 - val_accuracy: 0.9811 - 22s/epoch - 12ms/step\n",
            "Epoch 8/10\n",
            "1875/1875 - 28s - loss: 0.0212 - accuracy: 0.9929 - val_loss: 0.0862 - val_accuracy: 0.9773 - 28s/epoch - 15ms/step\n",
            "Epoch 9/10\n",
            "1875/1875 - 19s - loss: 0.0174 - accuracy: 0.9944 - val_loss: 0.1146 - val_accuracy: 0.9723 - 19s/epoch - 10ms/step\n",
            "Epoch 10/10\n",
            "1875/1875 - 24s - loss: 0.0185 - accuracy: 0.9945 - val_loss: 0.0967 - val_accuracy: 0.9775 - 24s/epoch - 13ms/step\n"
          ]
        }
      ]
    },
    {
      "cell_type": "code",
      "source": [
        "print('Accuracy: {}% \\n Error: {}'.format(scores[1],1 - scores[1]))"
      ],
      "metadata": {
        "colab": {
          "base_uri": "https://localhost:8080/"
        },
        "id": "puAeQ5YVVps8",
        "outputId": "ed8fa785-6752-4ff7-8d6f-dfe34c9f860a"
      },
      "execution_count": null,
      "outputs": [
        {
          "output_type": "stream",
          "name": "stdout",
          "text": [
            "Accuracy: 0.9775000214576721% \n",
            " Error: 0.02249997854232788\n"
          ]
        }
      ]
    },
    {
      "cell_type": "code",
      "source": [
        "model.save('classification_model.h5')"
      ],
      "metadata": {
        "colab": {
          "base_uri": "https://localhost:8080/"
        },
        "id": "uM-BqSnHUDnl",
        "outputId": "e10dfe77-b5bf-482e-e8fd-3e29b7041f8d"
      },
      "execution_count": null,
      "outputs": [
        {
          "output_type": "stream",
          "name": "stderr",
          "text": [
            "/usr/local/lib/python3.10/dist-packages/keras/src/engine/training.py:3103: UserWarning: You are saving your model as an HDF5 file via `model.save()`. This file format is considered legacy. We recommend using instead the native Keras format, e.g. `model.save('my_model.keras')`.\n",
            "  saving_api.save_model(\n"
          ]
        }
      ]
    },
    {
      "cell_type": "code",
      "source": [
        "from keras.models import load_model"
      ],
      "metadata": {
        "id": "ZhYvumLkWSjw"
      },
      "execution_count": null,
      "outputs": []
    },
    {
      "cell_type": "code",
      "source": [
        "pretrained_model = load_model('classification_model.h5')"
      ],
      "metadata": {
        "id": "JTnt6T-bWYcX"
      },
      "execution_count": null,
      "outputs": []
    }
  ]
}