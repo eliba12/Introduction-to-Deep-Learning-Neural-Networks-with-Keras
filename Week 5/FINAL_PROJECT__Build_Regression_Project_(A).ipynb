{
  "nbformat": 4,
  "nbformat_minor": 0,
  "metadata": {
    "colab": {
      "provenance": [],
      "authorship_tag": "ABX9TyOa07CPgnQi5KojOBGryyE7",
      "include_colab_link": true
    },
    "kernelspec": {
      "name": "python3",
      "display_name": "Python 3"
    },
    "language_info": {
      "name": "python"
    }
  },
  "cells": [
    {
      "cell_type": "markdown",
      "metadata": {
        "id": "view-in-github",
        "colab_type": "text"
      },
      "source": [
        "<a href=\"https://colab.research.google.com/github/eliba12/Introduction-to-Deep-Learning-Neural-Networks-with-Keras/blob/main/FINAL_PROJECT__Build_Regression_Project_(A).ipynb\" target=\"_parent\"><img src=\"https://colab.research.google.com/assets/colab-badge.svg\" alt=\"Open In Colab\"/></a>"
      ]
    },
    {
      "cell_type": "markdown",
      "source": [
        "# A. Build a Base Regression Model"
      ],
      "metadata": {
        "id": "DtJDJVSTGiWr"
      }
    },
    {
      "cell_type": "markdown",
      "source": [
        "The predictors in the data of concrete strength include:\n",
        "1.\tCement\n",
        "2.\tBlast Furnace Slag\n",
        "3.\tFly Ash\n",
        "4.\tWater\n",
        "5.\tSuperplasticizer\n",
        "6.\tCoarse Aggregate\n",
        "7.\tFine Aggregate"
      ],
      "metadata": {
        "id": "7rdgAjb-G0Rn"
      }
    },
    {
      "cell_type": "code",
      "execution_count": 1,
      "metadata": {
        "id": "Zi_EuFdgGb2h"
      },
      "outputs": [],
      "source": [
        "import pandas as pd\n",
        "import numpy as np"
      ]
    },
    {
      "cell_type": "code",
      "source": [
        "concrete_data = pd.read_csv('https://s3-api.us-geo.objectstorage.softlayer.net/cf-courses-data/CognitiveClass/DL0101EN/labs/data/concrete_data.csv')\n",
        "concrete_data.head()"
      ],
      "metadata": {
        "id": "p5z9D7FSHGdk"
      },
      "execution_count": null,
      "outputs": []
    },
    {
      "cell_type": "code",
      "source": [
        "concrete_data.shape"
      ],
      "metadata": {
        "id": "JMBfimgBH0XV"
      },
      "execution_count": null,
      "outputs": []
    },
    {
      "cell_type": "code",
      "source": [
        "concrete_data.describe()"
      ],
      "metadata": {
        "id": "2tRMmyNuIJQa"
      },
      "execution_count": null,
      "outputs": []
    },
    {
      "cell_type": "code",
      "source": [
        "concrete_data.isnull().sum()"
      ],
      "metadata": {
        "id": "FyfrRYasIdIe"
      },
      "execution_count": null,
      "outputs": []
    },
    {
      "cell_type": "code",
      "source": [
        "concrete_data.columns"
      ],
      "metadata": {
        "id": "WXqPW4Y2IxVB"
      },
      "execution_count": null,
      "outputs": []
    },
    {
      "cell_type": "code",
      "source": [
        "concrete_data_columns = concrete_data.columns\n",
        "\n",
        "predictors = concrete_data[concrete_data_columns[concrete_data_columns != 'Strength']]\n",
        "# All Columns except Strength\n",
        "target = concrete_data['Strength'] #Strength Cloumn"
      ],
      "metadata": {
        "id": "UtDB9pByI3Ch"
      },
      "execution_count": 7,
      "outputs": []
    },
    {
      "cell_type": "code",
      "source": [
        "predictors.head()"
      ],
      "metadata": {
        "id": "W1kpP3kaI6Na"
      },
      "execution_count": null,
      "outputs": []
    },
    {
      "cell_type": "code",
      "source": [
        "target.head()"
      ],
      "metadata": {
        "id": "1ivOZ1RXI-Yb"
      },
      "execution_count": null,
      "outputs": []
    },
    {
      "cell_type": "code",
      "source": [
        "import sklearn\n",
        "import keras\n",
        "\n",
        "from keras.models import Sequential\n",
        "from keras.layers import Dense\n",
        "from sklearn.model_selection import train_test_split"
      ],
      "metadata": {
        "id": "-3gW3_BpGrvu"
      },
      "execution_count": 10,
      "outputs": []
    },
    {
      "cell_type": "markdown",
      "source": [
        "# Build Base Regression Model in Keras with 1 Hidden Layer:\n",
        "Create a function that defines our regression model for us so that we can conveniently call it to create our model:\n",
        "\n",
        "One hidden layer of 10 nodes, and a ReLU activation function\n",
        "Use the adam optimizer and the mean squared error as the loss function"
      ],
      "metadata": {
        "id": "DaiFPEQYJUKK"
      }
    },
    {
      "cell_type": "code",
      "source": [
        "#num of inputs = num of predictors colums\n",
        "n_cols = predictors.shape[1]\n",
        "# define regression model\n",
        "def regression_model_A():\n",
        "    # create model with one HIDDEN LAYER\n",
        "    model_A = Sequential()\n",
        "    model_A.add(Dense(10, activation='relu', input_shape=(n_cols,)))\n",
        "    model_A.add(Dense(1))\n",
        "\n",
        "    # compile model\n",
        "    model_A.compile(optimizer='adam', loss='mean_squared_error')\n",
        "    return model_A"
      ],
      "metadata": {
        "id": "Ekq_oLS3JbJ6"
      },
      "execution_count": 11,
      "outputs": []
    },
    {
      "cell_type": "code",
      "source": [
        "# build the model\n",
        "model_A = regression_model_A()"
      ],
      "metadata": {
        "id": "LRmwYEM1JiTY"
      },
      "execution_count": 12,
      "outputs": []
    },
    {
      "cell_type": "markdown",
      "source": [
        "*    Train and test the model at the same time using the fit-method\n",
        "*   Split (%30) test- train the data for validation\n",
        "*   Train the model for 50 epochs"
      ],
      "metadata": {
        "id": "--KF1FcJJkCt"
      }
    },
    {
      "cell_type": "code",
      "source": [
        "list_of_mean_squared_error =[]\n",
        "for cycle in range(50):\n",
        "\n",
        "  # Randomly split the data into a training set (%70) and a test set (%30):\n",
        "  X_train, X_test, y_train, y_test = train_test_split(predictors, target, test_size = 0.3)\n",
        "\n",
        "  #Train and Test the model at the same time\n",
        "  #model.fit(predictors_norm, target, validation_split=0.3, epochs=50, verbose=2)\n",
        "res= model_A.fit(X_train,y_train, validation_data=(X_test, y_test), epochs=50, verbose=0)\n",
        "\n",
        "#Find mean_squared_error as last value in history\n",
        "mean_squared_error = res.history['val_loss'][-1]\n",
        "\n",
        "# Add value of mean_squared_error for every cyclein list\n",
        "list_of_mean_squared_error.append(mean_squared_error)\n",
        "print('cycle #{}: mean_squared_error {}'.format(cycle+1, mean_squared_error))\n",
        "#print(\"Accuracy: {} \\n Error: {}\".format(scores[1], 100-scores[1]*100))"
      ],
      "metadata": {
        "colab": {
          "base_uri": "https://localhost:8080/"
        },
        "id": "a6s5_lgIJjtr",
        "outputId": "27d2460d-eb69-4fb6-e2c9-1577b9d62c04"
      },
      "execution_count": 13,
      "outputs": [
        {
          "output_type": "stream",
          "name": "stdout",
          "text": [
            "cycle #50: mean_squared_error 631.572021484375\n"
          ]
        }
      ]
    },
    {
      "cell_type": "code",
      "source": [
        "# find mean and standard deviation of the mean squared errors:\n",
        "print('The mean of the mean squared errors: {}'.format(np.mean(list_of_mean_squared_error)))\n",
        "print('The standard deviation of the mean squared errors: {}'.format(np.std(list_of_mean_squared_error)))"
      ],
      "metadata": {
        "id": "9u8cj08lJ53I"
      },
      "execution_count": null,
      "outputs": []
    }
  ]
}
