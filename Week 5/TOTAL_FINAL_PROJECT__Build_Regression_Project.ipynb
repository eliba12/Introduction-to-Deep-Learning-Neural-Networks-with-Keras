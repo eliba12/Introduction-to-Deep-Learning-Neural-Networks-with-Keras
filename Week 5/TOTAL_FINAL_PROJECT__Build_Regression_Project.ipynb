{
  "nbformat": 4,
  "nbformat_minor": 0,
  "metadata": {
    "colab": {
      "provenance": [],
      "authorship_tag": "ABX9TyPFfQB0kkaV5IifP9E9T+hF",
      "include_colab_link": true
    },
    "kernelspec": {
      "name": "python3",
      "display_name": "Python 3"
    },
    "language_info": {
      "name": "python"
    }
  },
  "cells": [
    {
      "cell_type": "markdown",
      "metadata": {
        "id": "view-in-github",
        "colab_type": "text"
      },
      "source": [
        "<a href=\"https://colab.research.google.com/github/eliba12/Introduction-to-Deep-Learning-Neural-Networks-with-Keras/blob/main/TOTAL_FINAL_PROJECT__Build_Regression_Project.ipynb\" target=\"_parent\"><img src=\"https://colab.research.google.com/assets/colab-badge.svg\" alt=\"Open In Colab\"/></a>"
      ]
    },
    {
      "cell_type": "markdown",
      "source": [
        "# A. Build a Base Regression Model"
      ],
      "metadata": {
        "id": "O4GX5vmX4NEF"
      }
    },
    {
      "cell_type": "markdown",
      "source": [
        "The predictors in the data of concrete strength include:\n",
        "1.\tCement\n",
        "2.\tBlast Furnace Slag\n",
        "3.\tFly Ash\n",
        "4.\tWater\n",
        "5.\tSuperplasticizer\n",
        "6.\tCoarse Aggregate\n",
        "7.\tFine Aggregate\n"
      ],
      "metadata": {
        "id": "oLS_zU8onAJI"
      }
    },
    {
      "cell_type": "code",
      "execution_count": 1,
      "metadata": {
        "id": "gLHDXWp5jg6M"
      },
      "outputs": [],
      "source": [
        "import pandas as pd\n",
        "import numpy as np"
      ]
    },
    {
      "cell_type": "code",
      "source": [
        "#from google.colab import files\n",
        "#uploaded=files.upload()"
      ],
      "metadata": {
        "colab": {
          "base_uri": "https://localhost:8080/",
          "height": 71
        },
        "id": "13iS36T4Dp7Q",
        "outputId": "2a43c4d3-92da-430d-f66e-879861964c44"
      },
      "execution_count": null,
      "outputs": [
        {
          "output_type": "display_data",
          "data": {
            "text/plain": [
              "<IPython.core.display.HTML object>"
            ],
            "text/html": [
              "\n",
              "     <input type=\"file\" id=\"files-ba4f1ebc-9992-4ea9-b102-eea9b0b3198f\" name=\"files[]\" multiple disabled\n",
              "        style=\"border:none\" />\n",
              "     <output id=\"result-ba4f1ebc-9992-4ea9-b102-eea9b0b3198f\">\n",
              "      Upload widget is only available when the cell has been executed in the\n",
              "      current browser session. Please rerun this cell to enable.\n",
              "      </output>\n",
              "      <script>// Copyright 2017 Google LLC\n",
              "//\n",
              "// Licensed under the Apache License, Version 2.0 (the \"License\");\n",
              "// you may not use this file except in compliance with the License.\n",
              "// You may obtain a copy of the License at\n",
              "//\n",
              "//      http://www.apache.org/licenses/LICENSE-2.0\n",
              "//\n",
              "// Unless required by applicable law or agreed to in writing, software\n",
              "// distributed under the License is distributed on an \"AS IS\" BASIS,\n",
              "// WITHOUT WARRANTIES OR CONDITIONS OF ANY KIND, either express or implied.\n",
              "// See the License for the specific language governing permissions and\n",
              "// limitations under the License.\n",
              "\n",
              "/**\n",
              " * @fileoverview Helpers for google.colab Python module.\n",
              " */\n",
              "(function(scope) {\n",
              "function span(text, styleAttributes = {}) {\n",
              "  const element = document.createElement('span');\n",
              "  element.textContent = text;\n",
              "  for (const key of Object.keys(styleAttributes)) {\n",
              "    element.style[key] = styleAttributes[key];\n",
              "  }\n",
              "  return element;\n",
              "}\n",
              "\n",
              "// Max number of bytes which will be uploaded at a time.\n",
              "const MAX_PAYLOAD_SIZE = 100 * 1024;\n",
              "\n",
              "function _uploadFiles(inputId, outputId) {\n",
              "  const steps = uploadFilesStep(inputId, outputId);\n",
              "  const outputElement = document.getElementById(outputId);\n",
              "  // Cache steps on the outputElement to make it available for the next call\n",
              "  // to uploadFilesContinue from Python.\n",
              "  outputElement.steps = steps;\n",
              "\n",
              "  return _uploadFilesContinue(outputId);\n",
              "}\n",
              "\n",
              "// This is roughly an async generator (not supported in the browser yet),\n",
              "// where there are multiple asynchronous steps and the Python side is going\n",
              "// to poll for completion of each step.\n",
              "// This uses a Promise to block the python side on completion of each step,\n",
              "// then passes the result of the previous step as the input to the next step.\n",
              "function _uploadFilesContinue(outputId) {\n",
              "  const outputElement = document.getElementById(outputId);\n",
              "  const steps = outputElement.steps;\n",
              "\n",
              "  const next = steps.next(outputElement.lastPromiseValue);\n",
              "  return Promise.resolve(next.value.promise).then((value) => {\n",
              "    // Cache the last promise value to make it available to the next\n",
              "    // step of the generator.\n",
              "    outputElement.lastPromiseValue = value;\n",
              "    return next.value.response;\n",
              "  });\n",
              "}\n",
              "\n",
              "/**\n",
              " * Generator function which is called between each async step of the upload\n",
              " * process.\n",
              " * @param {string} inputId Element ID of the input file picker element.\n",
              " * @param {string} outputId Element ID of the output display.\n",
              " * @return {!Iterable<!Object>} Iterable of next steps.\n",
              " */\n",
              "function* uploadFilesStep(inputId, outputId) {\n",
              "  const inputElement = document.getElementById(inputId);\n",
              "  inputElement.disabled = false;\n",
              "\n",
              "  const outputElement = document.getElementById(outputId);\n",
              "  outputElement.innerHTML = '';\n",
              "\n",
              "  const pickedPromise = new Promise((resolve) => {\n",
              "    inputElement.addEventListener('change', (e) => {\n",
              "      resolve(e.target.files);\n",
              "    });\n",
              "  });\n",
              "\n",
              "  const cancel = document.createElement('button');\n",
              "  inputElement.parentElement.appendChild(cancel);\n",
              "  cancel.textContent = 'Cancel upload';\n",
              "  const cancelPromise = new Promise((resolve) => {\n",
              "    cancel.onclick = () => {\n",
              "      resolve(null);\n",
              "    };\n",
              "  });\n",
              "\n",
              "  // Wait for the user to pick the files.\n",
              "  const files = yield {\n",
              "    promise: Promise.race([pickedPromise, cancelPromise]),\n",
              "    response: {\n",
              "      action: 'starting',\n",
              "    }\n",
              "  };\n",
              "\n",
              "  cancel.remove();\n",
              "\n",
              "  // Disable the input element since further picks are not allowed.\n",
              "  inputElement.disabled = true;\n",
              "\n",
              "  if (!files) {\n",
              "    return {\n",
              "      response: {\n",
              "        action: 'complete',\n",
              "      }\n",
              "    };\n",
              "  }\n",
              "\n",
              "  for (const file of files) {\n",
              "    const li = document.createElement('li');\n",
              "    li.append(span(file.name, {fontWeight: 'bold'}));\n",
              "    li.append(span(\n",
              "        `(${file.type || 'n/a'}) - ${file.size} bytes, ` +\n",
              "        `last modified: ${\n",
              "            file.lastModifiedDate ? file.lastModifiedDate.toLocaleDateString() :\n",
              "                                    'n/a'} - `));\n",
              "    const percent = span('0% done');\n",
              "    li.appendChild(percent);\n",
              "\n",
              "    outputElement.appendChild(li);\n",
              "\n",
              "    const fileDataPromise = new Promise((resolve) => {\n",
              "      const reader = new FileReader();\n",
              "      reader.onload = (e) => {\n",
              "        resolve(e.target.result);\n",
              "      };\n",
              "      reader.readAsArrayBuffer(file);\n",
              "    });\n",
              "    // Wait for the data to be ready.\n",
              "    let fileData = yield {\n",
              "      promise: fileDataPromise,\n",
              "      response: {\n",
              "        action: 'continue',\n",
              "      }\n",
              "    };\n",
              "\n",
              "    // Use a chunked sending to avoid message size limits. See b/62115660.\n",
              "    let position = 0;\n",
              "    do {\n",
              "      const length = Math.min(fileData.byteLength - position, MAX_PAYLOAD_SIZE);\n",
              "      const chunk = new Uint8Array(fileData, position, length);\n",
              "      position += length;\n",
              "\n",
              "      const base64 = btoa(String.fromCharCode.apply(null, chunk));\n",
              "      yield {\n",
              "        response: {\n",
              "          action: 'append',\n",
              "          file: file.name,\n",
              "          data: base64,\n",
              "        },\n",
              "      };\n",
              "\n",
              "      let percentDone = fileData.byteLength === 0 ?\n",
              "          100 :\n",
              "          Math.round((position / fileData.byteLength) * 100);\n",
              "      percent.textContent = `${percentDone}% done`;\n",
              "\n",
              "    } while (position < fileData.byteLength);\n",
              "  }\n",
              "\n",
              "  // All done.\n",
              "  yield {\n",
              "    response: {\n",
              "      action: 'complete',\n",
              "    }\n",
              "  };\n",
              "}\n",
              "\n",
              "scope.google = scope.google || {};\n",
              "scope.google.colab = scope.google.colab || {};\n",
              "scope.google.colab._files = {\n",
              "  _uploadFiles,\n",
              "  _uploadFilesContinue,\n",
              "};\n",
              "})(self);\n",
              "</script> "
            ]
          },
          "metadata": {}
        },
        {
          "output_type": "stream",
          "name": "stdout",
          "text": [
            "Saving concrete_data.csv to concrete_data.csv\n"
          ]
        }
      ]
    },
    {
      "cell_type": "code",
      "source": [
        "#concrete_data=pd.read_csv('concrete_data.csv')"
      ],
      "metadata": {
        "id": "oyyDOOWD7WaA"
      },
      "execution_count": null,
      "outputs": []
    },
    {
      "cell_type": "code",
      "source": [
        "concrete_data = pd.read_csv('https://s3-api.us-geo.objectstorage.softlayer.net/cf-courses-data/CognitiveClass/DL0101EN/labs/data/concrete_data.csv')\n",
        "concrete_data.head()"
      ],
      "metadata": {
        "id": "ccQWjF7WnCWX"
      },
      "execution_count": null,
      "outputs": []
    },
    {
      "cell_type": "code",
      "source": [
        "concrete_data.shape"
      ],
      "metadata": {
        "colab": {
          "base_uri": "https://localhost:8080/",
          "height": 0
        },
        "id": "KiBYgtbKFWZj",
        "outputId": "a7903a7e-e34f-4838-a0e3-17d542e4782c"
      },
      "execution_count": 3,
      "outputs": [
        {
          "output_type": "execute_result",
          "data": {
            "text/plain": [
              "(1030, 9)"
            ]
          },
          "metadata": {},
          "execution_count": 3
        }
      ]
    },
    {
      "cell_type": "code",
      "source": [
        "concrete_data.describe()"
      ],
      "metadata": {
        "id": "R7vU5TA_F2zW"
      },
      "execution_count": null,
      "outputs": []
    },
    {
      "cell_type": "code",
      "source": [
        "concrete_data.isnull().sum()"
      ],
      "metadata": {
        "id": "y1SyZLO-F5af"
      },
      "execution_count": null,
      "outputs": []
    },
    {
      "cell_type": "code",
      "source": [
        "concrete_data.columns"
      ],
      "metadata": {
        "id": "127kPCULGQwU"
      },
      "execution_count": null,
      "outputs": []
    },
    {
      "cell_type": "code",
      "source": [
        "concrete_data_columns = concrete_data.columns\n",
        "\n",
        "predictors = concrete_data[concrete_data_columns[concrete_data_columns != 'Strength']]\n",
        "# All Columns except Strength\n",
        "target = concrete_data['Strength'] #Strength Cloumn"
      ],
      "metadata": {
        "id": "NYE49tN-GVTM"
      },
      "execution_count": 6,
      "outputs": []
    },
    {
      "cell_type": "code",
      "source": [
        "predictors.head()"
      ],
      "metadata": {
        "id": "UsWoxiCvGZMU"
      },
      "execution_count": null,
      "outputs": []
    },
    {
      "cell_type": "code",
      "source": [
        "target.head()"
      ],
      "metadata": {
        "id": "dJ9smR7_GdLy"
      },
      "execution_count": null,
      "outputs": []
    },
    {
      "cell_type": "code",
      "source": [
        "import sklearn\n",
        "import keras\n",
        "\n",
        "from keras.models import Sequential\n",
        "from keras.layers import Dense\n",
        "from sklearn.model_selection import train_test_split"
      ],
      "metadata": {
        "id": "-3gW3_BpGrvu"
      },
      "execution_count": 10,
      "outputs": []
    },
    {
      "cell_type": "markdown",
      "source": [
        "# Build Base Regression Model in Keras with 1 Hidden Layer:\n",
        "Create a function that defines our regression model for us so that we can conveniently call it to create our model:\n",
        "\n",
        "One hidden layer of 10 nodes, and a ReLU activation function\n",
        "Use the adam optimizer and the mean squared error as the loss function\n",
        "\n",
        "\n"
      ],
      "metadata": {
        "id": "Ucl4WlahSe23"
      }
    },
    {
      "cell_type": "code",
      "source": [
        "#num of inputs = num of predictors colums\n",
        "n_cols = predictors.shape[1]\n",
        "# define regression model\n",
        "def regression_model_A():\n",
        "    # create model with one HIDDEN LAYER\n",
        "    model_A = Sequential()\n",
        "    model_A.add(Dense(10, activation='relu', input_shape=(n_cols,)))\n",
        "    model_A.add(Dense(1))\n",
        "\n",
        "    # compile model\n",
        "    model_A.compile(optimizer='adam', loss='mean_squared_error')\n",
        "    return model_A"
      ],
      "metadata": {
        "id": "6-F0HWpNGxQu"
      },
      "execution_count": 15,
      "outputs": []
    },
    {
      "cell_type": "code",
      "source": [
        "# build the model\n",
        "model_A = regression_model_A()"
      ],
      "metadata": {
        "id": "7giyqWhC3aRl"
      },
      "execution_count": 16,
      "outputs": []
    },
    {
      "cell_type": "markdown",
      "source": [
        "*    Train and test the model at the same time using the fit-method\n",
        "*   Split (%30) test- train the data for validation\n",
        "*   Train the model for 50 epochs"
      ],
      "metadata": {
        "id": "qD1TCEjQBYSF"
      }
    },
    {
      "cell_type": "code",
      "source": [
        "list_of_mean_squared_error =[]\n",
        "for cycle in range(50):\n",
        "\n",
        "  # Randomly split the data into a training set (%70) and a test set (%30):\n",
        "  X_train, X_test, y_train, y_test = train_test_split(predictors, target, test_size = 0.3)\n",
        "\n",
        "  #Train and Test the model at the same time\n",
        "  #model.fit(predictors_norm, target, validation_split=0.3, epochs=50, verbose=2)\n",
        "res= model_A.fit(X_train,y_train, validation_data=(X_test, y_test), epochs=50, verbose=0)\n",
        "\n",
        "#Find mean_squared_error as last value in history\n",
        "mean_squared_error = res.history['val_loss'][-1]\n",
        "\n",
        "# Add value of mean_squared_error for every cyclein list\n",
        "list_of_mean_squared_error.append(mean_squared_error)\n",
        "print('cycle #{}: mean_squared_error {}'.format(cycle+1, mean_squared_error))\n",
        "#print(\"Accuracy: {} \\n Error: {}\".format(scores[1], 100-scores[1]*100))"
      ],
      "metadata": {
        "id": "yLNkO2mSAyYG",
        "colab": {
          "base_uri": "https://localhost:8080/",
          "height": 0
        },
        "outputId": "03b00026-7546-4005-986b-933983767afa"
      },
      "execution_count": 17,
      "outputs": [
        {
          "output_type": "stream",
          "name": "stdout",
          "text": [
            "cycle #50: mean_squared_error 301.93060302734375\n"
          ]
        }
      ]
    },
    {
      "cell_type": "code",
      "source": [
        "# find mean and standard deviation of the mean squared errors:\n",
        "print('The mean of the mean squared errors: {}'.format(np.mean(list_of_mean_squared_error)))\n",
        "print('The standard deviation of the mean squared errors: {}'.format(np.std(list_of_mean_squared_error)))"
      ],
      "metadata": {
        "colab": {
          "base_uri": "https://localhost:8080/",
          "height": 0
        },
        "id": "pOyDmrNyXsEY",
        "outputId": "67b700b0-2031-4612-a18b-940aec66ad53"
      },
      "execution_count": 18,
      "outputs": [
        {
          "output_type": "stream",
          "name": "stdout",
          "text": [
            "The mean of the mean squared errors: 301.93060302734375\n",
            "The standard deviation of the mean squared errors: 0.0\n"
          ]
        }
      ]
    },
    {
      "cell_type": "markdown",
      "source": [
        "## Normalize the Data\n",
        "Repeat Part A but use the normalized data.\n",
        "Normalize= (Data - mean)/standard deviation"
      ],
      "metadata": {
        "id": "YMgJDQGVbm0k"
      }
    },
    {
      "cell_type": "code",
      "source": [
        "predictors_norm = (predictors - predictors.mean()) / predictors.std()\n",
        "predictors_norm.head()"
      ],
      "metadata": {
        "colab": {
          "base_uri": "https://localhost:8080/",
          "height": 206
        },
        "id": "otd-0EhMGgvf",
        "outputId": "c91c72e0-abb3-42dc-e26a-396a5da6a9d1"
      },
      "execution_count": 19,
      "outputs": [
        {
          "output_type": "execute_result",
          "data": {
            "text/plain": [
              "     Cement  Blast Furnace Slag   Fly Ash     Water  Superplasticizer  \\\n",
              "0  2.476712           -0.856472 -0.846733 -0.916319         -0.620147   \n",
              "1  2.476712           -0.856472 -0.846733 -0.916319         -0.620147   \n",
              "2  0.491187            0.795140 -0.846733  2.174405         -1.038638   \n",
              "3  0.491187            0.795140 -0.846733  2.174405         -1.038638   \n",
              "4 -0.790075            0.678079 -0.846733  0.488555         -1.038638   \n",
              "\n",
              "   Coarse Aggregate  Fine Aggregate       Age  \n",
              "0          0.862735       -1.217079 -0.279597  \n",
              "1          1.055651       -1.217079 -0.279597  \n",
              "2         -0.526262       -2.239829  3.551340  \n",
              "3         -0.526262       -2.239829  5.055221  \n",
              "4          0.070492        0.647569  4.976069  "
            ],
            "text/html": [
              "\n",
              "  <div id=\"df-52458144-ff80-4a9c-8ab0-6b018a55b7c4\" class=\"colab-df-container\">\n",
              "    <div>\n",
              "<style scoped>\n",
              "    .dataframe tbody tr th:only-of-type {\n",
              "        vertical-align: middle;\n",
              "    }\n",
              "\n",
              "    .dataframe tbody tr th {\n",
              "        vertical-align: top;\n",
              "    }\n",
              "\n",
              "    .dataframe thead th {\n",
              "        text-align: right;\n",
              "    }\n",
              "</style>\n",
              "<table border=\"1\" class=\"dataframe\">\n",
              "  <thead>\n",
              "    <tr style=\"text-align: right;\">\n",
              "      <th></th>\n",
              "      <th>Cement</th>\n",
              "      <th>Blast Furnace Slag</th>\n",
              "      <th>Fly Ash</th>\n",
              "      <th>Water</th>\n",
              "      <th>Superplasticizer</th>\n",
              "      <th>Coarse Aggregate</th>\n",
              "      <th>Fine Aggregate</th>\n",
              "      <th>Age</th>\n",
              "    </tr>\n",
              "  </thead>\n",
              "  <tbody>\n",
              "    <tr>\n",
              "      <th>0</th>\n",
              "      <td>2.476712</td>\n",
              "      <td>-0.856472</td>\n",
              "      <td>-0.846733</td>\n",
              "      <td>-0.916319</td>\n",
              "      <td>-0.620147</td>\n",
              "      <td>0.862735</td>\n",
              "      <td>-1.217079</td>\n",
              "      <td>-0.279597</td>\n",
              "    </tr>\n",
              "    <tr>\n",
              "      <th>1</th>\n",
              "      <td>2.476712</td>\n",
              "      <td>-0.856472</td>\n",
              "      <td>-0.846733</td>\n",
              "      <td>-0.916319</td>\n",
              "      <td>-0.620147</td>\n",
              "      <td>1.055651</td>\n",
              "      <td>-1.217079</td>\n",
              "      <td>-0.279597</td>\n",
              "    </tr>\n",
              "    <tr>\n",
              "      <th>2</th>\n",
              "      <td>0.491187</td>\n",
              "      <td>0.795140</td>\n",
              "      <td>-0.846733</td>\n",
              "      <td>2.174405</td>\n",
              "      <td>-1.038638</td>\n",
              "      <td>-0.526262</td>\n",
              "      <td>-2.239829</td>\n",
              "      <td>3.551340</td>\n",
              "    </tr>\n",
              "    <tr>\n",
              "      <th>3</th>\n",
              "      <td>0.491187</td>\n",
              "      <td>0.795140</td>\n",
              "      <td>-0.846733</td>\n",
              "      <td>2.174405</td>\n",
              "      <td>-1.038638</td>\n",
              "      <td>-0.526262</td>\n",
              "      <td>-2.239829</td>\n",
              "      <td>5.055221</td>\n",
              "    </tr>\n",
              "    <tr>\n",
              "      <th>4</th>\n",
              "      <td>-0.790075</td>\n",
              "      <td>0.678079</td>\n",
              "      <td>-0.846733</td>\n",
              "      <td>0.488555</td>\n",
              "      <td>-1.038638</td>\n",
              "      <td>0.070492</td>\n",
              "      <td>0.647569</td>\n",
              "      <td>4.976069</td>\n",
              "    </tr>\n",
              "  </tbody>\n",
              "</table>\n",
              "</div>\n",
              "    <div class=\"colab-df-buttons\">\n",
              "\n",
              "  <div class=\"colab-df-container\">\n",
              "    <button class=\"colab-df-convert\" onclick=\"convertToInteractive('df-52458144-ff80-4a9c-8ab0-6b018a55b7c4')\"\n",
              "            title=\"Convert this dataframe to an interactive table.\"\n",
              "            style=\"display:none;\">\n",
              "\n",
              "  <svg xmlns=\"http://www.w3.org/2000/svg\" height=\"24px\" viewBox=\"0 -960 960 960\">\n",
              "    <path d=\"M120-120v-720h720v720H120Zm60-500h600v-160H180v160Zm220 220h160v-160H400v160Zm0 220h160v-160H400v160ZM180-400h160v-160H180v160Zm440 0h160v-160H620v160ZM180-180h160v-160H180v160Zm440 0h160v-160H620v160Z\"/>\n",
              "  </svg>\n",
              "    </button>\n",
              "\n",
              "  <style>\n",
              "    .colab-df-container {\n",
              "      display:flex;\n",
              "      gap: 12px;\n",
              "    }\n",
              "\n",
              "    .colab-df-convert {\n",
              "      background-color: #E8F0FE;\n",
              "      border: none;\n",
              "      border-radius: 50%;\n",
              "      cursor: pointer;\n",
              "      display: none;\n",
              "      fill: #1967D2;\n",
              "      height: 32px;\n",
              "      padding: 0 0 0 0;\n",
              "      width: 32px;\n",
              "    }\n",
              "\n",
              "    .colab-df-convert:hover {\n",
              "      background-color: #E2EBFA;\n",
              "      box-shadow: 0px 1px 2px rgba(60, 64, 67, 0.3), 0px 1px 3px 1px rgba(60, 64, 67, 0.15);\n",
              "      fill: #174EA6;\n",
              "    }\n",
              "\n",
              "    .colab-df-buttons div {\n",
              "      margin-bottom: 4px;\n",
              "    }\n",
              "\n",
              "    [theme=dark] .colab-df-convert {\n",
              "      background-color: #3B4455;\n",
              "      fill: #D2E3FC;\n",
              "    }\n",
              "\n",
              "    [theme=dark] .colab-df-convert:hover {\n",
              "      background-color: #434B5C;\n",
              "      box-shadow: 0px 1px 3px 1px rgba(0, 0, 0, 0.15);\n",
              "      filter: drop-shadow(0px 1px 2px rgba(0, 0, 0, 0.3));\n",
              "      fill: #FFFFFF;\n",
              "    }\n",
              "  </style>\n",
              "\n",
              "    <script>\n",
              "      const buttonEl =\n",
              "        document.querySelector('#df-52458144-ff80-4a9c-8ab0-6b018a55b7c4 button.colab-df-convert');\n",
              "      buttonEl.style.display =\n",
              "        google.colab.kernel.accessAllowed ? 'block' : 'none';\n",
              "\n",
              "      async function convertToInteractive(key) {\n",
              "        const element = document.querySelector('#df-52458144-ff80-4a9c-8ab0-6b018a55b7c4');\n",
              "        const dataTable =\n",
              "          await google.colab.kernel.invokeFunction('convertToInteractive',\n",
              "                                                    [key], {});\n",
              "        if (!dataTable) return;\n",
              "\n",
              "        const docLinkHtml = 'Like what you see? Visit the ' +\n",
              "          '<a target=\"_blank\" href=https://colab.research.google.com/notebooks/data_table.ipynb>data table notebook</a>'\n",
              "          + ' to learn more about interactive tables.';\n",
              "        element.innerHTML = '';\n",
              "        dataTable['output_type'] = 'display_data';\n",
              "        await google.colab.output.renderOutput(dataTable, element);\n",
              "        const docLink = document.createElement('div');\n",
              "        docLink.innerHTML = docLinkHtml;\n",
              "        element.appendChild(docLink);\n",
              "      }\n",
              "    </script>\n",
              "  </div>\n",
              "\n",
              "\n",
              "<div id=\"df-d6d76628-3b3a-445a-97e8-c13ab859eb67\">\n",
              "  <button class=\"colab-df-quickchart\" onclick=\"quickchart('df-d6d76628-3b3a-445a-97e8-c13ab859eb67')\"\n",
              "            title=\"Suggest charts\"\n",
              "            style=\"display:none;\">\n",
              "\n",
              "<svg xmlns=\"http://www.w3.org/2000/svg\" height=\"24px\"viewBox=\"0 0 24 24\"\n",
              "     width=\"24px\">\n",
              "    <g>\n",
              "        <path d=\"M19 3H5c-1.1 0-2 .9-2 2v14c0 1.1.9 2 2 2h14c1.1 0 2-.9 2-2V5c0-1.1-.9-2-2-2zM9 17H7v-7h2v7zm4 0h-2V7h2v10zm4 0h-2v-4h2v4z\"/>\n",
              "    </g>\n",
              "</svg>\n",
              "  </button>\n",
              "\n",
              "<style>\n",
              "  .colab-df-quickchart {\n",
              "      --bg-color: #E8F0FE;\n",
              "      --fill-color: #1967D2;\n",
              "      --hover-bg-color: #E2EBFA;\n",
              "      --hover-fill-color: #174EA6;\n",
              "      --disabled-fill-color: #AAA;\n",
              "      --disabled-bg-color: #DDD;\n",
              "  }\n",
              "\n",
              "  [theme=dark] .colab-df-quickchart {\n",
              "      --bg-color: #3B4455;\n",
              "      --fill-color: #D2E3FC;\n",
              "      --hover-bg-color: #434B5C;\n",
              "      --hover-fill-color: #FFFFFF;\n",
              "      --disabled-bg-color: #3B4455;\n",
              "      --disabled-fill-color: #666;\n",
              "  }\n",
              "\n",
              "  .colab-df-quickchart {\n",
              "    background-color: var(--bg-color);\n",
              "    border: none;\n",
              "    border-radius: 50%;\n",
              "    cursor: pointer;\n",
              "    display: none;\n",
              "    fill: var(--fill-color);\n",
              "    height: 32px;\n",
              "    padding: 0;\n",
              "    width: 32px;\n",
              "  }\n",
              "\n",
              "  .colab-df-quickchart:hover {\n",
              "    background-color: var(--hover-bg-color);\n",
              "    box-shadow: 0 1px 2px rgba(60, 64, 67, 0.3), 0 1px 3px 1px rgba(60, 64, 67, 0.15);\n",
              "    fill: var(--button-hover-fill-color);\n",
              "  }\n",
              "\n",
              "  .colab-df-quickchart-complete:disabled,\n",
              "  .colab-df-quickchart-complete:disabled:hover {\n",
              "    background-color: var(--disabled-bg-color);\n",
              "    fill: var(--disabled-fill-color);\n",
              "    box-shadow: none;\n",
              "  }\n",
              "\n",
              "  .colab-df-spinner {\n",
              "    border: 2px solid var(--fill-color);\n",
              "    border-color: transparent;\n",
              "    border-bottom-color: var(--fill-color);\n",
              "    animation:\n",
              "      spin 1s steps(1) infinite;\n",
              "  }\n",
              "\n",
              "  @keyframes spin {\n",
              "    0% {\n",
              "      border-color: transparent;\n",
              "      border-bottom-color: var(--fill-color);\n",
              "      border-left-color: var(--fill-color);\n",
              "    }\n",
              "    20% {\n",
              "      border-color: transparent;\n",
              "      border-left-color: var(--fill-color);\n",
              "      border-top-color: var(--fill-color);\n",
              "    }\n",
              "    30% {\n",
              "      border-color: transparent;\n",
              "      border-left-color: var(--fill-color);\n",
              "      border-top-color: var(--fill-color);\n",
              "      border-right-color: var(--fill-color);\n",
              "    }\n",
              "    40% {\n",
              "      border-color: transparent;\n",
              "      border-right-color: var(--fill-color);\n",
              "      border-top-color: var(--fill-color);\n",
              "    }\n",
              "    60% {\n",
              "      border-color: transparent;\n",
              "      border-right-color: var(--fill-color);\n",
              "    }\n",
              "    80% {\n",
              "      border-color: transparent;\n",
              "      border-right-color: var(--fill-color);\n",
              "      border-bottom-color: var(--fill-color);\n",
              "    }\n",
              "    90% {\n",
              "      border-color: transparent;\n",
              "      border-bottom-color: var(--fill-color);\n",
              "    }\n",
              "  }\n",
              "</style>\n",
              "\n",
              "  <script>\n",
              "    async function quickchart(key) {\n",
              "      const quickchartButtonEl =\n",
              "        document.querySelector('#' + key + ' button');\n",
              "      quickchartButtonEl.disabled = true;  // To prevent multiple clicks.\n",
              "      quickchartButtonEl.classList.add('colab-df-spinner');\n",
              "      try {\n",
              "        const charts = await google.colab.kernel.invokeFunction(\n",
              "            'suggestCharts', [key], {});\n",
              "      } catch (error) {\n",
              "        console.error('Error during call to suggestCharts:', error);\n",
              "      }\n",
              "      quickchartButtonEl.classList.remove('colab-df-spinner');\n",
              "      quickchartButtonEl.classList.add('colab-df-quickchart-complete');\n",
              "    }\n",
              "    (() => {\n",
              "      let quickchartButtonEl =\n",
              "        document.querySelector('#df-d6d76628-3b3a-445a-97e8-c13ab859eb67 button');\n",
              "      quickchartButtonEl.style.display =\n",
              "        google.colab.kernel.accessAllowed ? 'block' : 'none';\n",
              "    })();\n",
              "  </script>\n",
              "</div>\n",
              "\n",
              "    </div>\n",
              "  </div>\n"
            ]
          },
          "metadata": {},
          "execution_count": 19
        }
      ]
    },
    {
      "cell_type": "code",
      "source": [
        "n_cols = predictors_norm.shape[1]\n",
        "def regression_model_B():\n",
        "    model_B = Sequential()\n",
        "    model_B.add(Dense(10, activation='relu', input_shape=(n_cols,)))\n",
        "    model_B.add(Dense(1))\n",
        "\n",
        "    model_B.compile(optimizer='adam', loss='mean_squared_error')\n",
        "    return model_B"
      ],
      "metadata": {
        "id": "Z37ncQJSgWBJ"
      },
      "execution_count": 20,
      "outputs": []
    },
    {
      "cell_type": "code",
      "source": [
        "#Define model\n",
        "model_B = regression_model_B()"
      ],
      "metadata": {
        "id": "H7t9nZJvnsmA"
      },
      "execution_count": 21,
      "outputs": []
    },
    {
      "cell_type": "code",
      "source": [
        "list_of_mean_squared_error =[]\n",
        "for cycle in range(50):\n",
        "\n",
        "  # Randomly split the data into a training set (%70) and a test set (%30):\n",
        "  X_train, X_test, y_train, y_test = train_test_split(predictors, target, test_size = 0.3)\n",
        "\n",
        "  #Train and Test the model at the same time\n",
        "  #model.fit(predictors_norm, target, validation_split=0.3, epochs=50, verbose=2)\n",
        "res= model_B.fit(X_train,y_train, validation_data=(X_test, y_test), epochs=50, verbose=0)\n",
        "\n",
        "#Find mean_squared_error as last value in history\n",
        "mean_squared_error = res.history['val_loss'][-1]\n",
        "\n",
        "# Add value of mean_squared_error for every cyclein list\n",
        "list_of_mean_squared_error.append(mean_squared_error)\n",
        "print('cycle #{}: mean_squared_error {}'.format(cycle+1, mean_squared_error))\n",
        "#print(\"Accuracy: {} \\n Error: {}\".format(scores[1], 100-scores[1]*100))"
      ],
      "metadata": {
        "colab": {
          "base_uri": "https://localhost:8080/",
          "height": 0
        },
        "id": "nU3rydEUgKF3",
        "outputId": "888f6e7f-0f53-4dea-f828-d69750842383"
      },
      "execution_count": 22,
      "outputs": [
        {
          "output_type": "stream",
          "name": "stdout",
          "text": [
            "cycle #50: mean_squared_error 122.73651123046875\n"
          ]
        }
      ]
    },
    {
      "cell_type": "code",
      "source": [
        "# find mean and standard deviation of the mean squared errors:\n",
        "print('The mean of the mean squared errors: {}'.format(np.mean(list_of_mean_squared_error)))\n",
        "print('The standard deviation of the mean squared errors: {}'.format(np.std(list_of_mean_squared_error)))"
      ],
      "metadata": {
        "colab": {
          "base_uri": "https://localhost:8080/",
          "height": 0
        },
        "id": "_88W1zi1g2EB",
        "outputId": "55391ee9-5f4a-476e-8dfe-c9dd9aa9b419"
      },
      "execution_count": 23,
      "outputs": [
        {
          "output_type": "stream",
          "name": "stdout",
          "text": [
            "The mean of the mean squared errors: 122.73651123046875\n",
            "The standard deviation of the mean squared errors: 0.0\n"
          ]
        }
      ]
    },
    {
      "cell_type": "markdown",
      "source": [
        "**The mean and the standard deviation of the mean squared errors in case B is less than in case A. To me, it's not a very good idea to compare result of two poor neural networks with one hidden layer only. Data normalization does not help a lot. Error is huge for A and B cases.**"
      ],
      "metadata": {
        "id": "jqiDkYOaiWQR"
      }
    },
    {
      "cell_type": "markdown",
      "source": [
        "# C. Increate the number of epochs"
      ],
      "metadata": {
        "id": "WAn5oHppifoy"
      }
    },
    {
      "cell_type": "markdown",
      "source": [
        "Repeat Part B but use 100 epochs this time for training.\n",
        "\n",
        "Build the model:"
      ],
      "metadata": {
        "id": "wHi6qUy9i0-Y"
      }
    },
    {
      "cell_type": "code",
      "source": [
        "def regression_model_C():\n",
        "    model_C = Sequential()\n",
        "    model_C.add(Dense(10, activation='relu', input_shape=(n_cols,)))\n",
        "    model_C.add(Dense(1))\n",
        "\n",
        "    model_C.compile(optimizer='adam', loss='mean_squared_error')\n",
        "    return model_C\n",
        "\n",
        "#Define model\n",
        "model_C = regression_model_C()"
      ],
      "metadata": {
        "id": "2B6JEXAti9tw"
      },
      "execution_count": 24,
      "outputs": []
    },
    {
      "cell_type": "code",
      "source": [
        "list_of_mean_squared_error =[]\n",
        "for cycle in range(100):\n",
        "\n",
        "  # Randomly split the data into a training set (%70) and a test set (%30):\n",
        "  X_train, X_test, y_train, y_test = train_test_split(predictors, target, test_size = 0.3)\n",
        "\n",
        "  #Train and Test the model at the same time\n",
        "  #model.fit(predictors_norm, target, validation_split=0.3, epochs=100, verbose=2)\n",
        "res= model_C.fit(X_train,y_train, validation_data=(X_test, y_test), epochs=100, verbose=0)\n",
        "\n",
        "#Find mean_squared_error as last value in history\n",
        "mean_squared_error = res.history['val_loss'][-1]\n",
        "\n",
        "# Add value of mean_squared_error for every cyclein list\n",
        "list_of_mean_squared_error.append(mean_squared_error)\n",
        "print('cycle #{}: mean_squared_error {}'.format(cycle+1, mean_squared_error))\n",
        "#print(\"Accuracy: {} \\n Error: {}\".format(scores[1], 100-scores[1]*100))"
      ],
      "metadata": {
        "colab": {
          "base_uri": "https://localhost:8080/",
          "height": 0
        },
        "id": "AKT8mL4Fjy1e",
        "outputId": "e80c408f-1d40-4850-fa37-3ef172b090c6"
      },
      "execution_count": 25,
      "outputs": [
        {
          "output_type": "stream",
          "name": "stdout",
          "text": [
            "cycle #100: mean_squared_error 102.45152282714844\n"
          ]
        }
      ]
    },
    {
      "cell_type": "code",
      "source": [
        "print('The mean of the mean squared errors: {}'.format(np.mean(list_of_mean_squared_error)))\n",
        "print('The standard deviation of the mean squared errors: {}'.format(np.std(list_of_mean_squared_error)))"
      ],
      "metadata": {
        "id": "U4qFpM1fkAwx"
      },
      "execution_count": null,
      "outputs": []
    },
    {
      "cell_type": "markdown",
      "source": [
        "**The mean and the standard deviation of the mean squared errors in case C is a little smaller than in case B. But in both cases error is huge. In my opinion it's not a very good idea to compare result of two poor neural networks with one hidden layer only. Number of epoch does not help.**"
      ],
      "metadata": {
        "id": "-PI52fXgihAE"
      }
    },
    {
      "cell_type": "markdown",
      "source": [
        "# D. Increase the number of hidden layers\n",
        "Create a new model (same as model B) with three hidden layers, each of 10 nodes\n",
        "and ReLU activation function."
      ],
      "metadata": {
        "id": "oTg5RBoNkjdk"
      }
    },
    {
      "cell_type": "code",
      "source": [
        "def regression_model_D():\n",
        "    model_D = Sequential()\n",
        "    model_D.add(Dense(10, activation='relu', input_shape=(n_cols,)))\n",
        "    model_D.add(Dense(10, activation='relu'))\n",
        "    model_D.add(Dense(10, activation='relu'))\n",
        "    model_D.add(Dense(1))\n",
        "\n",
        "    model_D.compile(optimizer='adam', loss='mean_squared_error')\n",
        "    return model_D\n"
      ],
      "metadata": {
        "id": "U3lWRWmMicji"
      },
      "execution_count": 27,
      "outputs": []
    },
    {
      "cell_type": "code",
      "source": [
        "#Define model D\n",
        "model_D = regression_model_D()"
      ],
      "metadata": {
        "id": "6AROa4S_lJpe"
      },
      "execution_count": 28,
      "outputs": []
    },
    {
      "cell_type": "code",
      "source": [
        "list_of_mean_squared_error_D = []\n",
        "for cycle in range(50):\n",
        "    #Randomly split the data into a training set (70%) and a test set (30%):\n",
        "    X_train, X_test, y_train, y_test = train_test_split(predictors, target, test_size=0.3)\n",
        "    #Train and test the model at the same time\n",
        "    res = model_D.fit(X_train, y_train, epochs=50, verbose=0, validation_data=(X_test, y_test))\n",
        "    #Find mean_squared_error as last value in history.\n",
        "    mean_squared_error = res.history['val_loss'][-1]\n",
        "    #Add value of mean_squared_error for every cycle in list.\n",
        "    list_of_mean_squared_error.append(mean_squared_error)\n",
        "    print('Cycle #{}: mean_squared_error {}'.format(cycle+1, mean_squared_error))"
      ],
      "metadata": {
        "id": "RKCiLZ8jlQ9Z"
      },
      "execution_count": null,
      "outputs": []
    },
    {
      "cell_type": "code",
      "source": [
        "print('The mean of the mean squared errors: {}'.format(np.mean(list_of_mean_squared_error)))\n",
        "print('The standard deviation of the mean squared errors: {}'.format(np.std(list_of_mean_squared_error)))"
      ],
      "metadata": {
        "id": "7-5EoU5_ld74"
      },
      "execution_count": null,
      "outputs": []
    },
    {
      "cell_type": "markdown",
      "source": [
        "**The mean and the standard deviation of the mean squared errors in case D is less than in case A, B and C. And it's the only case where error is not very big. It means additional layers in neural network are more important than other things. Also it proves the comparison between poor neural network with one hidden layer in previous cases is a bad idea. Result can be unpredictable**"
      ],
      "metadata": {
        "id": "hWGNfS2nl5s_"
      }
    }
  ]
}
