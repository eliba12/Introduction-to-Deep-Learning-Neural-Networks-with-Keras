{
  "nbformat": 4,
  "nbformat_minor": 0,
  "metadata": {
    "colab": {
      "provenance": [],
      "history_visible": true,
      "authorship_tag": "ABX9TyPlBxVaQX+nlQjt7TjOgkhi",
      "include_colab_link": true
    },
    "kernelspec": {
      "name": "python3",
      "display_name": "Python 3"
    },
    "language_info": {
      "name": "python"
    }
  },
  "cells": [
    {
      "cell_type": "markdown",
      "metadata": {
        "id": "view-in-github",
        "colab_type": "text"
      },
      "source": [
        "<a href=\"https://colab.research.google.com/github/eliba12/Introduction-to-Deep-Learning-Neural-Networks-with-Keras/blob/main/Convolutional_Neural_Network_with_Keras_.ipynb\" target=\"_parent\"><img src=\"https://colab.research.google.com/assets/colab-badge.svg\" alt=\"Open In Colab\"/></a>"
      ]
    },
    {
      "cell_type": "code",
      "execution_count": null,
      "metadata": {
        "id": "8XiwTgjPTidD"
      },
      "outputs": [],
      "source": [
        "import keras\n",
        "from keras.models import Sequential\n",
        "from keras.layers import Dense\n",
        "from keras.utils import to_categorical"
      ]
    },
    {
      "cell_type": "code",
      "source": [
        "# to add convolutional layers\n",
        "# to add pooling layers\n",
        "from keras.layers import Conv2D, MaxPooling2D\n",
        "\n",
        "# to flatten data for fully connected layers\n",
        "from keras.layers import Flatten"
      ],
      "metadata": {
        "id": "auC4ucnST3eY"
      },
      "execution_count": null,
      "outputs": []
    },
    {
      "cell_type": "markdown",
      "source": [
        "# Convolutional Layer with One set of convolutional and pooling layers"
      ],
      "metadata": {
        "id": "802MD5ijT_Dc"
      }
    },
    {
      "cell_type": "code",
      "source": [
        "# import data\n",
        "from keras.datasets import mnist"
      ],
      "metadata": {
        "id": "5tkC8KdUUFMw"
      },
      "execution_count": null,
      "outputs": []
    },
    {
      "cell_type": "code",
      "source": [
        "#load data\n",
        "(X_train, y_train), (X_test,y_test)= mnist.load_data()"
      ],
      "metadata": {
        "id": "DMFuLFgBcbdg"
      },
      "execution_count": null,
      "outputs": []
    },
    {
      "cell_type": "code",
      "source": [
        "#Reshape to be [Samples][pixels][height]\n",
        "X_train = X_train.reshape (X_train.shape[0], 28,28,1).astype('float32')\n",
        "X_test = X_test.reshape (X_test.shape[0], 28, 28,1).astype('float32')"
      ],
      "metadata": {
        "id": "0zBQHl6Jc6DQ"
      },
      "execution_count": null,
      "outputs": []
    },
    {
      "cell_type": "markdown",
      "source": [
        "Normalize:"
      ],
      "metadata": {
        "id": "V-3ZBojdeVdJ"
      }
    },
    {
      "cell_type": "code",
      "source": [
        "X_train = X_train /255 # Normalize training data\n",
        "X_test = X_test /255   # Normalize test data"
      ],
      "metadata": {
        "id": "mYAJ4D6eeX5A"
      },
      "execution_count": null,
      "outputs": []
    },
    {
      "cell_type": "code",
      "source": [
        "y_train = to_categorical(y_train)\n",
        "y_test = to_categorical(y_test )\n",
        "\n",
        "num_classes = y_test.shape[1] # number of Categories"
      ],
      "metadata": {
        "id": "bUH5DnoOevme"
      },
      "execution_count": null,
      "outputs": []
    },
    {
      "cell_type": "markdown",
      "source": [
        "Next, let's define a function that creates our model. Let's start with one set of convolutional and pooling layers."
      ],
      "metadata": {
        "id": "Wq5dNb7if-yo"
      }
    },
    {
      "cell_type": "code",
      "source": [
        "def convolutional_model():\n",
        "\n",
        "    # create model\n",
        "    model = Sequential()\n",
        "    model.add(Conv2D(16, (5, 5), strides=(1, 1), activation='relu', input_shape=(28, 28, 1)))\n",
        "    model.add(MaxPooling2D(pool_size=(2, 2), strides=(2, 2)))\n",
        "\n",
        "    model.add(Flatten())\n",
        "    model.add(Dense(100, activation='relu'))\n",
        "    model.add(Dense(num_classes, activation='softmax'))\n",
        "\n",
        "    # compile model\n",
        "    model.compile(optimizer='adam', loss='categorical_crossentropy',  metrics=['accuracy'])\n",
        "    return model"
      ],
      "metadata": {
        "id": "IUknN91Qf0cw"
      },
      "execution_count": null,
      "outputs": []
    },
    {
      "cell_type": "markdown",
      "source": [
        "Finally, let's call the function to create the model, and then let's train it and evaluate it."
      ],
      "metadata": {
        "id": "1nUAp5U8lMVi"
      }
    },
    {
      "cell_type": "code",
      "source": [
        "# build the model\n",
        "model = convolutional_model()\n",
        "\n",
        "# fit the model\n",
        "model.fit(X_train, y_train, validation_data=(X_test, y_test), epochs=10, batch_size=200, verbose=2)\n",
        "\n",
        "# evaluate the model\n",
        "scores = model.evaluate(X_test, y_test, verbose=0)\n",
        "print(\"Accuracy: {} \\n Error: {}\".format(scores[1], 100-scores[1]*100))"
      ],
      "metadata": {
        "colab": {
          "base_uri": "https://localhost:8080/"
        },
        "id": "WTSQ8h5clLB6",
        "outputId": "9e809b12-f0a5-4eea-c1ef-77c39e14325a"
      },
      "execution_count": null,
      "outputs": [
        {
          "output_type": "stream",
          "name": "stdout",
          "text": [
            "Epoch 1/10\n",
            "300/300 - 21s - loss: 0.2668 - accuracy: 0.9287 - val_loss: 0.0899 - val_accuracy: 0.9734 - 21s/epoch - 69ms/step\n",
            "Epoch 2/10\n",
            "300/300 - 21s - loss: 0.0768 - accuracy: 0.9773 - val_loss: 0.0605 - val_accuracy: 0.9812 - 21s/epoch - 70ms/step\n",
            "Epoch 3/10\n",
            "300/300 - 20s - loss: 0.0538 - accuracy: 0.9841 - val_loss: 0.0456 - val_accuracy: 0.9853 - 20s/epoch - 66ms/step\n",
            "Epoch 4/10\n",
            "300/300 - 21s - loss: 0.0408 - accuracy: 0.9873 - val_loss: 0.0346 - val_accuracy: 0.9891 - 21s/epoch - 69ms/step\n",
            "Epoch 5/10\n",
            "300/300 - 20s - loss: 0.0330 - accuracy: 0.9898 - val_loss: 0.0381 - val_accuracy: 0.9871 - 20s/epoch - 67ms/step\n",
            "Epoch 6/10\n",
            "300/300 - 21s - loss: 0.0262 - accuracy: 0.9921 - val_loss: 0.0355 - val_accuracy: 0.9872 - 21s/epoch - 71ms/step\n",
            "Epoch 7/10\n",
            "300/300 - 20s - loss: 0.0208 - accuracy: 0.9939 - val_loss: 0.0363 - val_accuracy: 0.9877 - 20s/epoch - 65ms/step\n",
            "Epoch 8/10\n",
            "300/300 - 21s - loss: 0.0184 - accuracy: 0.9945 - val_loss: 0.0418 - val_accuracy: 0.9862 - 21s/epoch - 71ms/step\n",
            "Epoch 9/10\n",
            "300/300 - 22s - loss: 0.0148 - accuracy: 0.9955 - val_loss: 0.0325 - val_accuracy: 0.9898 - 22s/epoch - 74ms/step\n",
            "Epoch 10/10\n",
            "300/300 - 21s - loss: 0.0126 - accuracy: 0.9962 - val_loss: 0.0341 - val_accuracy: 0.9900 - 21s/epoch - 71ms/step\n",
            "Accuracy: 0.9900000095367432 \n",
            " Error: 0.9999990463256836\n"
          ]
        }
      ]
    },
    {
      "cell_type": "markdown",
      "source": [
        "## Convolutional Layer with two sets of convolutional and pooling layers"
      ],
      "metadata": {
        "id": "FAjqkulEzBsE"
      }
    },
    {
      "cell_type": "code",
      "source": [
        "def convolutional_model():\n",
        "\n",
        "    # create model\n",
        "    model = Sequential()\n",
        "    model.add(Conv2D(16, (5, 5), activation='relu', input_shape=(28, 28, 1)))\n",
        "    model.add(MaxPooling2D(pool_size=(2, 2), strides=(2, 2)))\n",
        "\n",
        "    model.add(Conv2D(8, (2, 2), activation='relu'))\n",
        "    model.add(MaxPooling2D(pool_size=(2, 2), strides=(2, 2)))\n",
        "\n",
        "    model.add(Flatten())\n",
        "    model.add(Dense(100, activation='relu'))\n",
        "    model.add(Dense(num_classes, activation='softmax'))\n",
        "\n",
        "    # Compile model\n",
        "    model.compile(optimizer='adam', loss='categorical_crossentropy',  metrics=['accuracy'])\n",
        "    return model"
      ],
      "metadata": {
        "id": "wu9QNSN0uTcD"
      },
      "execution_count": null,
      "outputs": []
    },
    {
      "cell_type": "code",
      "source": [
        "# build the model\n",
        "model = convolutional_model()\n",
        "\n",
        "# fit the model\n",
        "model.fit(X_train, y_train, validation_data=(X_test, y_test), epochs=10, batch_size=200, verbose=2)\n",
        "\n",
        "#evaluate the model\n",
        "scores = model.evaluate(X_test, y_test, verbose=0)\n",
        "print(\"Accuracy: {} \\n Error: {}\".format(scores[1], 100-scores[1]*100))"
      ],
      "metadata": {
        "colab": {
          "base_uri": "https://localhost:8080/"
        },
        "id": "7xtlZQQFuaOm",
        "outputId": "a712b9e5-e0a6-40c7-acd7-e3b811334f9e"
      },
      "execution_count": null,
      "outputs": [
        {
          "output_type": "stream",
          "name": "stdout",
          "text": [
            "Epoch 1/10\n",
            "300/300 - 23s - loss: 0.4840 - accuracy: 0.8601 - val_loss: 0.1285 - val_accuracy: 0.9620 - 23s/epoch - 77ms/step\n",
            "Epoch 2/10\n",
            "300/300 - 21s - loss: 0.1092 - accuracy: 0.9673 - val_loss: 0.0786 - val_accuracy: 0.9759 - 21s/epoch - 68ms/step\n",
            "Epoch 3/10\n",
            "300/300 - 23s - loss: 0.0781 - accuracy: 0.9765 - val_loss: 0.0586 - val_accuracy: 0.9816 - 23s/epoch - 77ms/step\n",
            "Epoch 4/10\n",
            "300/300 - 21s - loss: 0.0634 - accuracy: 0.9808 - val_loss: 0.0571 - val_accuracy: 0.9824 - 21s/epoch - 70ms/step\n",
            "Epoch 5/10\n",
            "300/300 - 22s - loss: 0.0549 - accuracy: 0.9834 - val_loss: 0.0503 - val_accuracy: 0.9836 - 22s/epoch - 73ms/step\n",
            "Epoch 6/10\n",
            "300/300 - 20s - loss: 0.0478 - accuracy: 0.9855 - val_loss: 0.0434 - val_accuracy: 0.9858 - 20s/epoch - 68ms/step\n",
            "Epoch 7/10\n",
            "300/300 - 22s - loss: 0.0444 - accuracy: 0.9863 - val_loss: 0.0392 - val_accuracy: 0.9875 - 22s/epoch - 73ms/step\n",
            "Epoch 8/10\n",
            "300/300 - 21s - loss: 0.0394 - accuracy: 0.9881 - val_loss: 0.0367 - val_accuracy: 0.9881 - 21s/epoch - 69ms/step\n",
            "Epoch 9/10\n",
            "300/300 - 25s - loss: 0.0366 - accuracy: 0.9885 - val_loss: 0.0360 - val_accuracy: 0.9886 - 25s/epoch - 82ms/step\n",
            "Epoch 10/10\n",
            "300/300 - 23s - loss: 0.0323 - accuracy: 0.9900 - val_loss: 0.0379 - val_accuracy: 0.9882 - 23s/epoch - 77ms/step\n",
            "Accuracy: 0.9882000088691711 \n",
            " Error: 1.1799991130828857\n"
          ]
        }
      ]
    }
  ]
}
